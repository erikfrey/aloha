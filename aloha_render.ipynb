{
  "nbformat": 4,
  "nbformat_minor": 0,
  "metadata": {
    "colab": {
      "provenance": [],
      "gpuType": "T4",
      "authorship_tag": "ABX9TyPIyDdIkjoP/ib4xYPSXh3+",
      "include_colab_link": true
    },
    "kernelspec": {
      "name": "python3",
      "display_name": "Python 3"
    },
    "language_info": {
      "name": "python"
    },
    "accelerator": "GPU"
  },
  "cells": [
    {
      "cell_type": "markdown",
      "metadata": {
        "id": "view-in-github",
        "colab_type": "text"
      },
      "source": [
        "<a href=\"https://colab.research.google.com/github/erikfrey/aloha/blob/main/aloha_render.ipynb\" target=\"_parent\"><img src=\"https://colab.research.google.com/assets/colab-badge.svg\" alt=\"Open In Colab\"/></a>"
      ]
    },
    {
      "cell_type": "markdown",
      "metadata": {
        "id": "a3NXzZCjTskz"
      },
      "source": [
        "# Aloha Bring To Target"
      ]
    },
    {
      "cell_type": "code",
      "source": [
        "%%bash\n",
        "pip install brax\n",
        "rm -rf mujoco_menagerie\n",
        "git clone https://github.com/google-deepmind/mujoco_menagerie.git\n",
        "cd mujoco_menagerie/aloha/\n",
        "patch -p0 < mjx_scene.patch\n",
        "patch -p0 < mjx_aloha.patch\n",
        "patch -p0 < mjx_filtered_cartesian_actuators.patch\n",
        "mv scene.xml mjx_scene.xml\n",
        "mv aloha.xml mjx_aloha.xml\n",
        "mv filtered_cartesian_actuators.xml mjx_filtered_cartesian_actuators.xml\n",
        "cat >mjx_single_cube.xml <<EOF\n",
        "<mujoco model=\"aloha with a single cube\">\n",
        "  <size nuserdata=\"1\"/>\n",
        "  <include file=\"mjx_scene.xml\"/>\n",
        "  <worldbody>\n",
        "    <body name=\"box\" pos=\"0.35 0.2 0.025\">\n",
        "      <freejoint/>\n",
        "      <geom name=\"box\" type=\"box\" size=\"0.015 0.02 0.03\" condim=\"3\"\n",
        "        friction=\"2.5 .03 .003\" rgba=\"0 1 0 1\" contype=\"1\" conaffinity=\"1\"/>\n",
        "    </body>\n",
        "  </worldbody>\n",
        "  <keyframe>\n",
        "    <key name=\"home\" qpos=\"\n",
        "      0 -0.96 1.16 0 -0.3 0 0.0084 0.0084\n",
        "      0 -0.96 1.16 0 -0.3 0 0.0084 0.0084\n",
        "      0.35 0.2 0.025 1 0 0 0\"\n",
        "      act= \"-0.1 0 0 0 0 0 0.03 0.1 0 0 0 0 0 0.03\"\n",
        "      ctrl=\"-0.1 0 0 0 0 0 0.03 0.1 0 0 0 0 0 0.03\"\n",
        "    />\n",
        "  </keyframe>\n",
        "</mujoco>\n",
        "EOF"
      ],
      "metadata": {
        "colab": {
          "base_uri": "https://localhost:8080/"
        },
        "id": "1peP73s5tjKX",
        "outputId": "a4ef8501-d41d-4c33-90fc-1a98e2d5e171"
      },
      "execution_count": 16,
      "outputs": [
        {
          "output_type": "stream",
          "name": "stdout",
          "text": [
            "Requirement already satisfied: brax in /usr/local/lib/python3.10/dist-packages (0.10.3)\n",
            "Requirement already satisfied: absl-py in /usr/local/lib/python3.10/dist-packages (from brax) (1.4.0)\n",
            "Requirement already satisfied: dm-env in /usr/local/lib/python3.10/dist-packages (from brax) (1.6)\n",
            "Requirement already satisfied: etils in /usr/local/lib/python3.10/dist-packages (from brax) (1.7.0)\n",
            "Requirement already satisfied: flask in /usr/local/lib/python3.10/dist-packages (from brax) (2.2.5)\n",
            "Requirement already satisfied: flask-cors in /usr/local/lib/python3.10/dist-packages (from brax) (4.0.1)\n",
            "Requirement already satisfied: flax in /usr/local/lib/python3.10/dist-packages (from brax) (0.8.3)\n",
            "Requirement already satisfied: grpcio in /usr/local/lib/python3.10/dist-packages (from brax) (1.63.0)\n",
            "Requirement already satisfied: gym in /usr/local/lib/python3.10/dist-packages (from brax) (0.25.2)\n",
            "Requirement already satisfied: jax>=0.4.6 in /usr/local/lib/python3.10/dist-packages (from brax) (0.4.26)\n",
            "Requirement already satisfied: jaxlib>=0.4.6 in /usr/local/lib/python3.10/dist-packages (from brax) (0.4.26+cuda12.cudnn89)\n",
            "Requirement already satisfied: jaxopt in /usr/local/lib/python3.10/dist-packages (from brax) (0.8.3)\n",
            "Requirement already satisfied: jinja2 in /usr/local/lib/python3.10/dist-packages (from brax) (3.1.4)\n",
            "Requirement already satisfied: ml-collections in /usr/local/lib/python3.10/dist-packages (from brax) (0.1.1)\n",
            "Requirement already satisfied: mujoco in /usr/local/lib/python3.10/dist-packages (from brax) (3.1.5)\n",
            "Requirement already satisfied: mujoco-mjx in /usr/local/lib/python3.10/dist-packages (from brax) (3.1.5)\n",
            "Requirement already satisfied: numpy in /usr/local/lib/python3.10/dist-packages (from brax) (1.25.2)\n",
            "Requirement already satisfied: optax in /usr/local/lib/python3.10/dist-packages (from brax) (0.2.2)\n",
            "Requirement already satisfied: Pillow in /usr/local/lib/python3.10/dist-packages (from brax) (9.4.0)\n",
            "Requirement already satisfied: pytinyrenderer in /usr/local/lib/python3.10/dist-packages (from brax) (0.0.14)\n",
            "Requirement already satisfied: scipy in /usr/local/lib/python3.10/dist-packages (from brax) (1.11.4)\n",
            "Requirement already satisfied: tensorboardX in /usr/local/lib/python3.10/dist-packages (from brax) (2.6.2.2)\n",
            "Requirement already satisfied: trimesh in /usr/local/lib/python3.10/dist-packages (from brax) (4.3.2)\n",
            "Requirement already satisfied: typing-extensions in /usr/local/lib/python3.10/dist-packages (from brax) (4.11.0)\n",
            "Requirement already satisfied: ml-dtypes>=0.2.0 in /usr/local/lib/python3.10/dist-packages (from jax>=0.4.6->brax) (0.2.0)\n",
            "Requirement already satisfied: opt-einsum in /usr/local/lib/python3.10/dist-packages (from jax>=0.4.6->brax) (3.3.0)\n",
            "Requirement already satisfied: dm-tree in /usr/local/lib/python3.10/dist-packages (from dm-env->brax) (0.1.8)\n",
            "Requirement already satisfied: Werkzeug>=2.2.2 in /usr/local/lib/python3.10/dist-packages (from flask->brax) (3.0.3)\n",
            "Requirement already satisfied: itsdangerous>=2.0 in /usr/local/lib/python3.10/dist-packages (from flask->brax) (2.2.0)\n",
            "Requirement already satisfied: click>=8.0 in /usr/local/lib/python3.10/dist-packages (from flask->brax) (8.1.7)\n",
            "Requirement already satisfied: MarkupSafe>=2.0 in /usr/local/lib/python3.10/dist-packages (from jinja2->brax) (2.1.5)\n",
            "Requirement already satisfied: msgpack in /usr/local/lib/python3.10/dist-packages (from flax->brax) (1.0.8)\n",
            "Requirement already satisfied: orbax-checkpoint in /usr/local/lib/python3.10/dist-packages (from flax->brax) (0.4.4)\n",
            "Requirement already satisfied: tensorstore in /usr/local/lib/python3.10/dist-packages (from flax->brax) (0.1.45)\n",
            "Requirement already satisfied: rich>=11.1 in /usr/local/lib/python3.10/dist-packages (from flax->brax) (13.7.1)\n",
            "Requirement already satisfied: PyYAML>=5.4.1 in /usr/local/lib/python3.10/dist-packages (from flax->brax) (6.0.1)\n",
            "Requirement already satisfied: cloudpickle>=1.2.0 in /usr/local/lib/python3.10/dist-packages (from gym->brax) (2.2.1)\n",
            "Requirement already satisfied: gym-notices>=0.0.4 in /usr/local/lib/python3.10/dist-packages (from gym->brax) (0.0.8)\n",
            "Requirement already satisfied: six in /usr/local/lib/python3.10/dist-packages (from ml-collections->brax) (1.16.0)\n",
            "Requirement already satisfied: contextlib2 in /usr/local/lib/python3.10/dist-packages (from ml-collections->brax) (21.6.0)\n",
            "Requirement already satisfied: glfw in /usr/local/lib/python3.10/dist-packages (from mujoco->brax) (2.7.0)\n",
            "Requirement already satisfied: pyopengl in /usr/local/lib/python3.10/dist-packages (from mujoco->brax) (3.1.7)\n",
            "Requirement already satisfied: chex>=0.1.86 in /usr/local/lib/python3.10/dist-packages (from optax->brax) (0.1.86)\n",
            "Requirement already satisfied: packaging in /usr/local/lib/python3.10/dist-packages (from tensorboardX->brax) (24.0)\n",
            "Requirement already satisfied: protobuf>=3.20 in /usr/local/lib/python3.10/dist-packages (from tensorboardX->brax) (3.20.3)\n",
            "Requirement already satisfied: toolz>=0.9.0 in /usr/local/lib/python3.10/dist-packages (from chex>=0.1.86->optax->brax) (0.12.1)\n",
            "Requirement already satisfied: markdown-it-py>=2.2.0 in /usr/local/lib/python3.10/dist-packages (from rich>=11.1->flax->brax) (3.0.0)\n",
            "Requirement already satisfied: pygments<3.0.0,>=2.13.0 in /usr/local/lib/python3.10/dist-packages (from rich>=11.1->flax->brax) (2.16.1)\n",
            "Requirement already satisfied: fsspec in /usr/local/lib/python3.10/dist-packages (from etils->brax) (2023.6.0)\n",
            "Requirement already satisfied: importlib_resources in /usr/local/lib/python3.10/dist-packages (from etils->brax) (6.4.0)\n",
            "Requirement already satisfied: zipp in /usr/local/lib/python3.10/dist-packages (from etils->brax) (3.18.1)\n",
            "Requirement already satisfied: nest_asyncio in /usr/local/lib/python3.10/dist-packages (from orbax-checkpoint->flax->brax) (1.6.0)\n",
            "Requirement already satisfied: mdurl~=0.1 in /usr/local/lib/python3.10/dist-packages (from markdown-it-py>=2.2.0->rich>=11.1->flax->brax) (0.1.2)\n",
            "patching file scene.xml\n",
            "Hunk #1 succeeded at 1 with fuzz 1.\n",
            "patching file aloha.xml\n",
            "patching file filtered_cartesian_actuators.xml\n"
          ]
        },
        {
          "output_type": "stream",
          "name": "stderr",
          "text": [
            "Cloning into 'mujoco_menagerie'...\n",
            "Updating files:  26% (258/961)\rUpdating files:  27% (260/961)\rUpdating files:  28% (270/961)\rUpdating files:  29% (279/961)\rUpdating files:  30% (289/961)\rUpdating files:  31% (298/961)\rUpdating files:  32% (308/961)\rUpdating files:  33% (318/961)\rUpdating files:  34% (327/961)\rUpdating files:  35% (337/961)\rUpdating files:  36% (346/961)\rUpdating files:  37% (356/961)\rUpdating files:  38% (366/961)\rUpdating files:  39% (375/961)\rUpdating files:  40% (385/961)\rUpdating files:  41% (395/961)\rUpdating files:  42% (404/961)\rUpdating files:  43% (414/961)\rUpdating files:  44% (423/961)\rUpdating files:  45% (433/961)\rUpdating files:  46% (443/961)\rUpdating files:  47% (452/961)\rUpdating files:  48% (462/961)\rUpdating files:  49% (471/961)\rUpdating files:  50% (481/961)\rUpdating files:  51% (491/961)\rUpdating files:  51% (499/961)\rUpdating files:  52% (500/961)\rUpdating files:  53% (510/961)\rUpdating files:  54% (519/961)\rUpdating files:  55% (529/961)\rUpdating files:  56% (539/961)\rUpdating files:  57% (548/961)\rUpdating files:  58% (558/961)\rUpdating files:  59% (567/961)\rUpdating files:  60% (577/961)\rUpdating files:  61% (587/961)\rUpdating files:  62% (596/961)\rUpdating files:  63% (606/961)\rUpdating files:  64% (616/961)\rUpdating files:  65% (625/961)\rUpdating files:  66% (635/961)\rUpdating files:  67% (644/961)\rUpdating files:  68% (654/961)\rUpdating files:  69% (664/961)\rUpdating files:  69% (667/961)\rUpdating files:  70% (673/961)\rUpdating files:  71% (683/961)\rUpdating files:  72% (692/961)\rUpdating files:  73% (702/961)\rUpdating files:  74% (712/961)\rUpdating files:  75% (721/961)\rUpdating files:  76% (731/961)\rUpdating files:  77% (740/961)\rUpdating files:  78% (750/961)\rUpdating files:  79% (760/961)\rUpdating files:  80% (769/961)\rUpdating files:  81% (779/961)\rUpdating files:  82% (789/961)\rUpdating files:  83% (798/961)\rUpdating files:  84% (808/961)\rUpdating files:  85% (817/961)\rUpdating files:  86% (827/961)\rUpdating files:  87% (837/961)\rUpdating files:  88% (846/961)\rUpdating files:  89% (856/961)\rUpdating files:  90% (865/961)\rUpdating files:  91% (875/961)\rUpdating files:  92% (885/961)\rUpdating files:  93% (894/961)\rUpdating files:  94% (904/961)\rUpdating files:  95% (913/961)\rUpdating files:  96% (923/961)\rUpdating files:  97% (933/961)\rUpdating files:  98% (942/961)\rUpdating files:  99% (952/961)\rUpdating files: 100% (961/961)\rUpdating files: 100% (961/961), done.\n"
          ]
        }
      ]
    },
    {
      "cell_type": "code",
      "execution_count": 14,
      "metadata": {
        "id": "2csKCQP5TJhQ"
      },
      "outputs": [],
      "source": [
        "import functools\n",
        "import os\n",
        "from datetime import datetime\n",
        "from typing import Any\n",
        "\n",
        "from IPython.display import HTML, clear_output\n",
        "from etils import epath\n",
        "\n",
        "import jax\n",
        "import jax.numpy as jp\n",
        "import matplotlib.pyplot as plt\n",
        "import mujoco\n",
        "\n",
        "from brax import base\n",
        "from brax.envs.base import PipelineEnv\n",
        "from brax.envs.base import State\n",
        "from brax.io import html\n",
        "from brax.io import mjcf\n",
        "from brax.training.agents.ppo import train as ppo\n",
        "\n",
        "# Tell XLA to use Triton GEMM, this improves steps/sec by ~30% on some GPUs\n",
        "xla_flags = os.environ.get('XLA_FLAGS', '')\n",
        "xla_flags += ' --xla_gpu_triton_gemm_any=True'\n",
        "os.environ['XLA_FLAGS'] = xla_flags"
      ]
    },
    {
      "cell_type": "code",
      "execution_count": 17,
      "metadata": {
        "id": "Pl2frKayK-R0",
        "colab": {
          "base_uri": "https://localhost:8080/"
        },
        "outputId": "c6c0f8f8-a0ce-493d-b8b5-05c66ee49899"
      },
      "outputs": [
        {
          "output_type": "stream",
          "name": "stderr",
          "text": [
            "/usr/local/lib/python3.10/dist-packages/brax/io/mjcf.py:344: DeprecationWarning: jax.tree_map is deprecated: use jax.tree.map (jax v0.4.25 or newer) or jax.tree_util.tree_map (any JAX version).\n",
            "  link = jax.tree_map(lambda x: x[1:].copy(), link)\n"
          ]
        }
      ],
      "source": [
        "# @title Setup ALOHA env\n",
        "\n",
        "def _load_sys(path: str) -> base.System:\n",
        "  path = epath.Path(path)\n",
        "  xml = path.read_text()\n",
        "  assets = {}\n",
        "  for f in path.parent.glob('*.xml'):\n",
        "    assets[f.name] = f.read_bytes()\n",
        "    for f in (path.parent / 'assets').glob('*'):\n",
        "      assets[f.name] = f.read_bytes()\n",
        "  model = mujoco.MjModel.from_xml_string(xml, assets)\n",
        "\n",
        "  # current overrides to get this working:\n",
        "  # TODO(erikfrey): tune this.  big slowdown from iterations.\n",
        "  model.opt.timestep = 0.005\n",
        "  model.numeric_data[0] = 10            # raises max_contacts to 10\n",
        "  model.actuator_dynprm[0:6, 0] = 0.5   # allows actuators to move faster\n",
        "  model.actuator_dynprm[7:13, 0] = 0.5  # ... leave gripper dynprm as is\n",
        "  model.opt.iterations = 10             # improves solver stability\n",
        "  model.opt.ls_iterations = 10          # improves solver stability\n",
        "\n",
        "  return mjcf.load_model(model)\n",
        "\n",
        "\n",
        "class AlohaBringToTarget(PipelineEnv):\n",
        "  \"\"\"Environment for training aloha to bring an object to target.\"\"\"\n",
        "\n",
        "  def __init__(self, **kwargs):\n",
        "    sys = _load_sys('/content/mujoco_menagerie/aloha/mjx_single_cube.xml')\n",
        "    kwargs['backend'] = 'mjx'\n",
        "    super().__init__(sys, **kwargs)\n",
        "\n",
        "    # For rewards\n",
        "    self._left_gripper_site_index = 3\n",
        "    self._right_gripper_site_index = 6\n",
        "    self._box_body_index = sys.mj_model.nbody - 1\n",
        "    self._box_q_index = 16\n",
        "\n",
        "    # Init qpos\n",
        "    self._init_q = jp.array([0.0748744, -0.0298622, 0.869616, 0.0954888,\n",
        "                             -0.887428, -0.0637624, 0.002, 0.002, -0.0772142,\n",
        "                             -0.03, 0.869422, -0.100858, -0.887171, 0.0673553,\n",
        "                             0.002, 0.002, 0, 0, 0.0255684, 1, 0, 0, 0])\n",
        "\n",
        "    # Action limits and dimension\n",
        "    self.action_dim = sys.mj_model.actuator_ctrlrange.shape[0]\n",
        "    self.lowers = sys.mj_model.actuator_ctrlrange[:, 0]\n",
        "    self.uppers = sys.mj_model.actuator_ctrlrange[:, 1]\n",
        "\n",
        "  def reset(self, rng: jax.Array) -> State:\n",
        "    rng, rng_target, rng_box = jax.random.split(rng, 3)\n",
        "\n",
        "    target_xy = jax.random.uniform(rng_target, (2,), minval=-0.15, maxval=0.15)\n",
        "    target_z = jax.random.uniform(rng_target, (1,), minval=0.1, maxval=0.4)\n",
        "    target_pos = jp.array([0, 0, 0.3])\n",
        "\n",
        "    box_xy = jax.random.uniform(rng_box, (2,), minval=-0.15, maxval=0.15)\n",
        "    box_pos = jp.append(box_xy, jp.array(0.02))\n",
        "\n",
        "    init_q = self._init_q.at[self._box_q_index:self._box_q_index + 3].set(box_pos)\n",
        "    pipeline_state = self.pipeline_init(init_q, jp.zeros(self.sys.nv))\n",
        "\n",
        "    info = {'rng': rng, 'target_pos': target_pos}\n",
        "    obs = self._get_obs(pipeline_state, info)\n",
        "    reward, done = jp.zeros(2)\n",
        "    metrics = {'gripper_reward': jp.array(0.0),\n",
        "               'box_reward': jp.array(0.0),\n",
        "               'out_of_bounds': jp.array(0.0)}\n",
        "    state = State(pipeline_state, obs, reward, done, metrics, info)\n",
        "\n",
        "    return state\n",
        "\n",
        "  def step(self, state: State, action: jax.Array) -> State:\n",
        "    action = jp.clip(action, -1.0, 1.0)\n",
        "    action = (action + 1) * 0.5  # move from [-1, 1] => [0, 1]\n",
        "    ctrl = action * (self.uppers - self.lowers) + self.lowers\n",
        "\n",
        "    data = self.pipeline_step(state.pipeline_state, ctrl)\n",
        "\n",
        "    target_pos = state.info['target_pos']\n",
        "    box_pos = data.xpos[self._box_body_index]\n",
        "\n",
        "    box_reward = jp.exp(-10 * jp.linalg.norm(target_pos - box_pos))\n",
        "\n",
        "    left_gripper_pos = data.site_xpos[self._left_gripper_site_index]\n",
        "    right_gripper_pos = data.site_xpos[self._right_gripper_site_index]\n",
        "    left_reward = jp.exp(-10 * jp.linalg.norm(box_pos - left_gripper_pos))\n",
        "    right_reward = jp.exp(-10 * jp.linalg.norm(box_pos - right_gripper_pos))\n",
        "    gripper_reward = jp.maximum(left_reward, right_reward)\n",
        "\n",
        "    gripper_open = data.act[6] + data.act[13]\n",
        "\n",
        "    out_of_bounds = jp.any(jp.abs(box_pos) > 1.0)\n",
        "    reward = 20 * box_reward + gripper_reward + gripper_open\n",
        "    done = out_of_bounds.astype(float)\n",
        "    state.metrics.update(\n",
        "        gripper_reward=gripper_reward,\n",
        "        box_reward=box_reward,\n",
        "        out_of_bounds=out_of_bounds.astype(float))\n",
        "    obs = self._get_obs(data, state.info)\n",
        "    state = State(data, obs, reward, done, state.metrics, state.info)\n",
        "\n",
        "    return state\n",
        "\n",
        "  def _get_obs(self, data: base.State, info: dict[str, Any]) -> jax.Array:\n",
        "    # gripper and box positions\n",
        "    left_gripper_pos = data.site_xpos[self._left_gripper_site_index]\n",
        "    left_gripper_mat = data.site_xmat[self._left_gripper_site_index].ravel()\n",
        "    right_gripper_pos = data.site_xpos[self._right_gripper_site_index]\n",
        "    right_gripper_mat = data.site_xmat[self._right_gripper_site_index].ravel()\n",
        "    box_pos = data.xpos[self._box_body_index]\n",
        "    box_mat = data.xmat[self._box_body_index].ravel()\n",
        "    obs = jp.concatenate([\n",
        "        data.act,\n",
        "        left_gripper_pos,\n",
        "        right_gripper_pos,\n",
        "        left_gripper_mat,\n",
        "        right_gripper_mat,\n",
        "        box_pos,\n",
        "        box_mat,\n",
        "        info['target_pos'],\n",
        "    ])\n",
        "\n",
        "    return obs\n",
        "\n",
        "env = AlohaBringToTarget()\n",
        "jit_env_reset = jax.jit(env.reset)\n",
        "jit_env_step = jax.jit(env.step)"
      ]
    },
    {
      "cell_type": "markdown",
      "metadata": {
        "id": "Y0tIQgi4xzFK"
      },
      "source": [
        "# Train Aloha Bring To Target\n"
      ]
    },
    {
      "cell_type": "code",
      "execution_count": 18,
      "metadata": {
        "colab": {
          "height": 525,
          "base_uri": "https://localhost:8080/"
        },
        "id": "1e6k8-RF0GBK",
        "outputId": "2481e6db-ffb1-415d-c76b-3ce79614f451"
      },
      "outputs": [
        {
          "output_type": "display_data",
          "data": {
            "text/plain": [
              "<Figure size 640x480 with 1 Axes>"
            ],
            "image/png": "[encoded data removed]"
          },
          "metadata": {}
        },
        {
          "output_type": "stream",
          "name": "stdout",
          "text": [
            "time to jit: 0:01:21.374229\n",
            "time to train: 0:31:36.927982\n"
          ]
        }
      ],
      "source": [
        "train_fn = functools.partial(\n",
        "    ppo.train, num_timesteps=150_000_000, num_evals=10, reward_scaling=0.1,\n",
        "    episode_length=1000, normalize_observations=True, action_repeat=2,\n",
        "    unroll_length=10, num_minibatches=32, num_updates_per_batch=8,\n",
        "    discounting=0.97, learning_rate=3e-4, entropy_cost=1e-3, num_envs=1024,\n",
        "    batch_size=1024, seed=0)\n",
        "\n",
        "xdata, ydata, ydataerr = [], [], []\n",
        "times = [datetime.now()]\n",
        "\n",
        "def progress(num_steps, metrics):\n",
        "  times.append(datetime.now())\n",
        "  xdata.append(num_steps)\n",
        "  ydata.append(metrics['eval/episode_reward'])\n",
        "  ydataerr.append(metrics['eval/episode_reward_std'])\n",
        "\n",
        "  clear_output(wait=True)\n",
        "  plt.rcParams.update({'font.size': 16})\n",
        "  plt.xlim([0, train_fn.keywords['num_timesteps'] * 1.01])\n",
        "  plt.ylim([0, 10000])\n",
        "  plt.xlabel('# environment steps')\n",
        "  plt.ylabel('reward per episode')\n",
        "  plt.title(f'y={ydata[-1]:.3f}')\n",
        "  plt.errorbar(xdata, ydata, yerr=ydataerr)\n",
        "  plt.show()\n",
        "\n",
        "make_inference_fn, params, _= train_fn(environment=env, progress_fn=progress)\n",
        "jit_inference_fn = jax.jit(make_inference_fn(params))\n",
        "\n",
        "print(f'time to jit: {times[1] - times[0]}')\n",
        "print(f'time to train: {times[-1] - times[1]}')"
      ]
    },
    {
      "cell_type": "code",
      "execution_count": 19,
      "metadata": {
        "id": "M0nz1zXd5JoO"
      },
      "outputs": [],
      "source": [
        "#@title Visualize\n",
        "\n",
        "rollout = []\n",
        "rng = jax.random.PRNGKey(seed=2)\n",
        "state = jit_env_reset(rng=rng)\n",
        "\n",
        "for i in range(1000):\n",
        "  act_rng, rng = jax.random.split(rng)\n",
        "  rollout.append(state.pipeline_state)\n",
        "  act, _ = jit_inference_fn(state.obs, act_rng)\n",
        "  state = jit_env_step(state, act)\n",
        "\n",
        "  if state.done:\n",
        "    print('Done: ', i)\n",
        "    break"
      ]
    },
    {
      "cell_type": "code",
      "execution_count": 21,
      "metadata": {
        "id": "oCB0Lt_Mhg5n"
      },
      "outputs": [],
      "source": [
        "HTML(html.render(env.sys, rollout))"
      ]
    },
    {
      "cell_type": "code",
      "source": [
        "# example raycast render\n",
        "import numpy as np\n",
        "from mujoco import mjx\n",
        "\n",
        "width = 128\n",
        "height = 128\n",
        "fovy = np.deg2rad(58)\n",
        "f = 0.1\n",
        "cam_id = 1\n",
        "\n",
        "# dimensions of image plane\n",
        "h_ip = np.tan(fovy/2) * 2 * f\n",
        "w_ip = h_ip * (width / height)\n",
        "delta = w_ip / (2 * width)\n",
        "xs = np.linspace(-w_ip/2 + delta, w_ip/2 - delta, width)\n",
        "ys = np.flip(np.linspace(-h_ip/2 + delta, h_ip/2 - delta, height))\n",
        "xs, ys = np.tile(xs, height), np.repeat(ys, width)\n",
        "\n",
        "cam_x = jp.array(xs)\n",
        "cam_y = jp.array(ys)\n",
        "cam_vec = jax.vmap(lambda x, y, m=state.pipeline_state.cam_xmat[cam_id]: m @ jp.array([x, y, -f]))(cam_x, cam_y)\n",
        "cam_vec = jax.vmap(lambda x: x / jp.linalg.norm(x))(cam_vec)\n",
        "cam_pos = state.pipeline_state.cam_xpos[cam_id]\n",
        "\n",
        "def render():\n",
        "  geomgroup = [True, True, True, False, False, False]\n",
        "  def fn(_, vec):\n",
        "    dist, _ = mjx.ray(env.sys, state.pipeline_state, cam_pos, vec, geomgroup)\n",
        "    return None, dist\n",
        "  _, dist = jax.lax.scan(fn, None, cam_vec)\n",
        "  return dist\n",
        "\n",
        "depth = jax.jit(render)()"
      ],
      "metadata": {
        "id": "vCG2NX6v_wAf"
      },
      "execution_count": 55,
      "outputs": []
    },
    {
      "cell_type": "code",
      "source": [
        "from PIL import Image\n",
        "\n",
        "depth = np.array(depth).reshape(128, 128)\n",
        "\n",
        "Image.fromarray(depth * 100, \"F\").convert(\"RGB\").resize((256, 256))"
      ],
      "metadata": {
        "colab": {
          "base_uri": "https://localhost:8080/",
          "height": 273
        },
        "id": "djovt7KEF4En",
        "outputId": "c5318c9d-6918-44f1-faa1-541c04d530b7"
      },
      "execution_count": 58,
      "outputs": [
        {
          "output_type": "execute_result",
          "data": {
            "text/plain": [
              "<PIL.Image.Image image mode=RGB size=256x256>"
            ],
            "image/png": "[encoded data removed]"
          },
          "metadata": {},
          "execution_count": 58
        }
      ]
    }
  ]
}